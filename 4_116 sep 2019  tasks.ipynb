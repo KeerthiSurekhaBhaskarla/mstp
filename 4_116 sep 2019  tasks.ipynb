{
 "cells": [
  {
   "cell_type": "code",
   "execution_count": 9,
   "metadata": {},
   "outputs": [],
   "source": [
    "fh_i=open('book.txt','r')\n",
    "fh_o=open('output.txt','w')\n",
    "count=0\n",
    "rows=[]\n",
    "for Line in fh_i:\n",
    "    count+=1\n",
    "    if count==1:\n",
    "        fh_o.write(Line.strip()+'\\ttotal\\n')\n",
    "    else:\n",
    "        marks_list=Line.strip().split()[2:]\n",
    "        newmarks=[]\n",
    "        for each in marks_list:\n",
    "            newmarks.append(int(each))\n",
    "        total_marks=sum(newmarks)\n",
    "        row=Line.strip()+'\\t'+str(total_marks)+'\\n'\n",
    "        rows.append([total_marks,row])\n",
    "rows.sort(reverse=True)\n",
    "for row in rows:\n",
    "    fh_o.write(row[1])\n",
    "fh_o.close()\n",
    "fh_i.close()"
   ]
  },
  {
   "cell_type": "markdown",
   "metadata": {},
   "source": [
    "### sort the students based on english marks\n",
    "   ['name',english,maths]"
   ]
  },
  {
   "cell_type": "code",
   "execution_count": 17,
   "metadata": {},
   "outputs": [
    {
     "name": "stdout",
     "output_type": "stream",
     "text": [
      "[['sai', 30, 40], ['ram', 50, 60], ['lakshmi', 100, 30]]\n"
     ]
    }
   ],
   "source": [
    "students=[['sai',30,40],['lakshmi',100,30],['ram',50,60]]\n",
    "removeIndex=1\n",
    "for student in students:\n",
    "    student.insert(0,student.pop(removeIndex))\n",
    "students.sort()\n",
    "for student in students:\n",
    "    student.insert(removeIndex,student.pop(0))\n",
    "print(students)\n",
    "\n"
   ]
  },
  {
   "cell_type": "code",
   "execution_count": 19,
   "metadata": {},
   "outputs": [
    {
     "data": {
      "text/plain": [
       "[['sai', 30, 40], ['ram', 50, 60], ['lakshmi', 100, 30]]"
      ]
     },
     "execution_count": 19,
     "metadata": {},
     "output_type": "execute_result"
    }
   ],
   "source": [
    "students=[['sai',30,40],['lakshmi',100,30],['ram',50,60]]\n",
    "students.sort(key=lambda x:x[1])\n",
    "students"
   ]
  },
  {
   "cell_type": "code",
   "execution_count": 20,
   "metadata": {},
   "outputs": [
    {
     "data": {
      "text/plain": [
       "[['sai', 30, 40], ['ram', 50, 60], ['lakshmi', 100, 30]]"
      ]
     },
     "execution_count": 20,
     "metadata": {},
     "output_type": "execute_result"
    }
   ],
   "source": [
    "students=[['sai',30,40],['lakshmi',100,30],['ram',50,60]]\n",
    "students.sort(key=lambda x:x[1]+x[2])\n",
    "students"
   ]
  },
  {
   "cell_type": "code",
   "execution_count": null,
   "metadata": {},
   "outputs": [],
   "source": []
  }
 ],
 "metadata": {
  "kernelspec": {
   "display_name": "Python 3",
   "language": "python",
   "name": "python3"
  },
  "language_info": {
   "codemirror_mode": {
    "name": "ipython",
    "version": 3
   },
   "file_extension": ".py",
   "mimetype": "text/x-python",
   "name": "python",
   "nbconvert_exporter": "python",
   "pygments_lexer": "ipython3",
   "version": "3.7.3"
  }
 },
 "nbformat": 4,
 "nbformat_minor": 2
}
