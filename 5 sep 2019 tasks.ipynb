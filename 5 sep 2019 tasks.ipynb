{
 "cells": [
  {
   "cell_type": "markdown",
   "metadata": {},
   "source": [
    "### write the content from book.txt to notes.txt"
   ]
  },
  {
   "cell_type": "code",
   "execution_count": null,
   "metadata": {},
   "outputs": [],
   "source": [
    "fh=open('book.txt','r')\n",
    "data=fh.read()\n",
    "fh1=open('notes.txt','w')\n",
    "fh1.write(data)\n",
    "\n",
    "fh1.close()\n",
    "fh.close()"
   ]
  },
  {
   "cell_type": "markdown",
   "metadata": {},
   "source": [
    "### find no of lines in book.txt file"
   ]
  },
  {
   "cell_type": "code",
   "execution_count": null,
   "metadata": {},
   "outputs": [],
   "source": [
    "fh=open('book.txt','r')\n",
    "c=0\n",
    "for Line in fh:\n",
    "    c+=1\n",
    "print(c)\n",
    "fh.close()"
   ]
  },
  {
   "cell_type": "markdown",
   "metadata": {},
   "source": [
    "### print 3rd line in the file"
   ]
  },
  {
   "cell_type": "code",
   "execution_count": null,
   "metadata": {},
   "outputs": [],
   "source": [
    "fh=open('book.txt','r')\n",
    "c=0\n",
    "for Line in fh:\n",
    "    c+=1\n",
    "    if(c==3):\n",
    "        print(Line)\n",
    "fh.close()"
   ]
  },
  {
   "cell_type": "markdown",
   "metadata": {},
   "source": [
    "### print last character in the 3rd line"
   ]
  },
  {
   "cell_type": "code",
   "execution_count": null,
   "metadata": {},
   "outputs": [],
   "source": [
    "fh=open('book.txt','r')\n",
    "c=0\n",
    "for i in fh:\n",
    "    c+=1\n",
    "    if(c==3):\n",
    "        print(i[-2])\n",
    "fh.close()"
   ]
  },
  {
   "cell_type": "markdown",
   "metadata": {},
   "source": [
    "### create function to return the data in given Line number"
   ]
  },
  {
   "cell_type": "code",
   "execution_count": 5,
   "metadata": {},
   "outputs": [
    {
     "name": "stdout",
     "output_type": "stream",
     "text": [
      "row 4\n"
     ]
    }
   ],
   "source": [
    "def data(Line):\n",
    "    fh=open('book.txt','r')\n",
    "    c=0\n",
    "    for i in fh:\n",
    "        c+=1\n",
    "        if(c==Line):\n",
    "            print(i)\n",
    "    fh.close()\n",
    "    \n",
    "data(4)"
   ]
  },
  {
   "cell_type": "markdown",
   "metadata": {},
   "source": [
    "### create function to find the number of charcters in file"
   ]
  },
  {
   "cell_type": "code",
   "execution_count": 7,
   "metadata": {},
   "outputs": [
    {
     "name": "stdout",
     "output_type": "stream",
     "text": [
      "23\n"
     ]
    }
   ],
   "source": [
    "def character(filename):\n",
    "    fh=open(filename,'r')\n",
    "    c=0\n",
    "    for i in fh:\n",
    "        for j in i:\n",
    "            c+=1\n",
    "    print(c)\n",
    "    \n",
    "    fh.close()\n",
    "   \n",
    "character('book.txt')\n"
   ]
  },
  {
   "cell_type": "markdown",
   "metadata": {},
   "source": [
    "### create function to count the occurence of the  given character"
   ]
  },
  {
   "cell_type": "code",
   "execution_count": null,
   "metadata": {},
   "outputs": [],
   "source": [
    "def occu(n):\n",
    "    fh=open('book.txt','r')\n",
    "    c=0\n",
    "    for i in fh:\n",
    "        for j in i:\n",
    "            if(j==n):\n",
    "                c+=1\n",
    "    print(c)\n",
    "occu('1')\n"
   ]
  },
  {
   "cell_type": "markdown",
   "metadata": {},
   "source": [
    "### create function to find the sum of digits in file"
   ]
  },
  {
   "cell_type": "code",
   "execution_count": 2,
   "metadata": {},
   "outputs": [
    {
     "name": "stdout",
     "output_type": "stream",
     "text": [
      "10\n"
     ]
    }
   ],
   "source": [
    "def sum(filename):\n",
    "    fh=open(filename,'r')\n",
    "    c=0\n",
    "    for i in fh:\n",
    "        for j in i:\n",
    "            if j.isdigit():\n",
    "                c=c+int(j)\n",
    "    print(c)\n",
    "    fh.close()\n",
    "sum('book.txt')"
   ]
  },
  {
   "cell_type": "markdown",
   "metadata": {},
   "source": [
    "### create function to replace all given old word with new word"
   ]
  },
  {
   "cell_type": "code",
   "execution_count": 1,
   "metadata": {},
   "outputs": [],
   "source": [
    "def replaceWord(fileName,oldWord,newWord):\n",
    "    fh=open(fileName,'r')\n",
    "    data=fh.read()\n",
    "    data=data.replace(oldWord,newWord)\n",
    "    fh.close()\n",
    "    fh=open(fileName,'w')\n",
    "    fh.write(data)\n",
    "    fh.close()\n",
    "replaceWord('book.txt','Line','row')"
   ]
  },
  {
   "cell_type": "markdown",
   "metadata": {},
   "source": [
    "### find number of words in file"
   ]
  },
  {
   "cell_type": "code",
   "execution_count": 12,
   "metadata": {},
   "outputs": [
    {
     "name": "stdout",
     "output_type": "stream",
     "text": [
      "8\n"
     ]
    }
   ],
   "source": [
    "fh=open('book.txt','r')\n",
    "\n",
    "c=0\n",
    "for i in fh:\n",
    "    w=i.split()\n",
    "    c=c+len(w)\n",
    "print(c)\n",
    "fh.close()"
   ]
  },
  {
   "cell_type": "code",
   "execution_count": 5,
   "metadata": {},
   "outputs": [],
   "source": [
    "fh_i=open('book.txt','r')\n",
    "fh_o=open('output.txt','w')\n",
    "count=0\n",
    "for Line in fh_i:\n",
    "    count+=1\n",
    "    if count==1:\n",
    "        fh_o.write(Line.strip()+'\\ttotal\\n')\n",
    "    else:\n",
    "        marks_list=Line.strip().split()[2:]\n",
    "        newmarks=[]\n",
    "        for each in marks_list:\n",
    "            newmarks.append(int(each))\n",
    "        total_marks=sum(newmarks)\n",
    "        fh_o.write(Line.strip()+'\\t'+str(total_marks)+'\\n')\n",
    "\n",
    "fh_o.close()\n",
    "fh_i.close()"
   ]
  },
  {
   "cell_type": "code",
   "execution_count": null,
   "metadata": {},
   "outputs": [],
   "source": []
  }
 ],
 "metadata": {
  "kernelspec": {
   "display_name": "Python 3",
   "language": "python",
   "name": "python3"
  },
  "language_info": {
   "codemirror_mode": {
    "name": "ipython",
    "version": 3
   },
   "file_extension": ".py",
   "mimetype": "text/x-python",
   "name": "python",
   "nbconvert_exporter": "python",
   "pygments_lexer": "ipython3",
   "version": "3.7.3"
  }
 },
 "nbformat": 4,
 "nbformat_minor": 2
}
