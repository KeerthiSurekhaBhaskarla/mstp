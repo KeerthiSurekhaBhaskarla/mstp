{
 "cells": [
  {
   "cell_type": "markdown",
   "metadata": {},
   "source": [
    "# 27 aug 2019\n",
    "## factorial"
   ]
  },
  {
   "cell_type": "code",
   "execution_count": null,
   "metadata": {},
   "outputs": [],
   "source": [
    "a=int(input(\"enter the number\"))\n",
    "fact=1\n",
    "for i in range(1,a+1):\n",
    "    fact=fact*i\n",
    "print(fact)\n",
    "    "
   ]
  },
  {
   "cell_type": "markdown",
   "metadata": {},
   "source": [
    "## program to print prime numbers in given range"
   ]
  },
  {
   "cell_type": "code",
   "execution_count": 6,
   "metadata": {},
   "outputs": [
    {
     "name": "stdout",
     "output_type": "stream",
     "text": [
      "enter the value50\n",
      "2\n",
      "3\n",
      "5\n",
      "7\n",
      "11\n",
      "13\n",
      "17\n",
      "19\n",
      "23\n",
      "29\n",
      "31\n",
      "37\n",
      "41\n",
      "43\n",
      "47\n"
     ]
    }
   ],
   "source": [
    "n=int(input(\"enter the value\"))\n",
    "for i in range(1,n):\n",
    "    count=0\n",
    "    for j in range(1,i+1):\n",
    "        if(i%j==0):\n",
    "            count+=1\n",
    "    if(count==2):\n",
    "            print(i)"
   ]
  },
  {
   "cell_type": "markdown",
   "metadata": {},
   "source": [
    "## calculate square root of a number"
   ]
  },
  {
   "cell_type": "code",
   "execution_count": null,
   "metadata": {},
   "outputs": [],
   "source": [
    "import math\n",
    "a=int(input(\"enter the number\"))\n",
    "print(math.sqrt(a))\n"
   ]
  },
  {
   "cell_type": "code",
   "execution_count": null,
   "metadata": {},
   "outputs": [],
   "source": [
    "a=int(input(\"enter the number\"))\n",
    "b=pow(a,0.5)\n",
    "print(b)"
   ]
  },
  {
   "cell_type": "markdown",
   "metadata": {},
   "source": [
    "## average of number"
   ]
  },
  {
   "cell_type": "code",
   "execution_count": null,
   "metadata": {},
   "outputs": [],
   "source": [
    "s=input()\n",
    "s=s.split(\",\")\n",
    "sum=0\n",
    "for i in s:\n",
    "    sum=sum+int(i)\n",
    "   \n",
    "avg=sum//len(s)   =,\n",
    "print(avg)    "
   ]
  },
  {
   "cell_type": "markdown",
   "metadata": {},
   "source": [
    "## palindrome"
   ]
  },
  {
   "cell_type": "code",
   "execution_count": null,
   "metadata": {},
   "outputs": [],
   "source": [
    "s=input()\n",
    "if(s==s[::-1]):\n",
    "    print(\"palindrome\")\n",
    "else:\n",
    "    print(\"not palindrome\")"
   ]
  },
  {
   "cell_type": "markdown",
   "metadata": {},
   "source": [
    "## count divisors\n",
    "### you have been given 3 integers -l,r,k.find how many numbers between l and r are divisible by k"
   ]
  },
  {
   "cell_type": "code",
   "execution_count": null,
   "metadata": {},
   "outputs": [],
   "source": [
    "l=int(input(\"enter the value\"))\n",
    "r=int(input(\"enter the value\"))\n",
    "k=int(input(\"enter the value\"))\n",
    "count=0\n",
    "for i in range(l,r+1):\n",
    "    if(i%k==0):\n",
    "        count+=1\n",
    "  \n",
    "print(count)\n",
    "    \n"
   ]
  },
  {
   "cell_type": "markdown",
   "metadata": {},
   "source": [
    "## ISBN"
   ]
  },
  {
   "cell_type": "code",
   "execution_count": null,
   "metadata": {},
   "outputs": [],
   "source": [
    "a=input()\n",
    "sum=0\n",
    "c=1\n",
    "for i in a:\n",
    "    sum=sum+int(i)*c\n",
    "    c+=1\n",
    "if(sum%11==0):\n",
    "    print(\"valid\")\n",
    "else:\n",
    "    print(\"not valid\")\n",
    "    "
   ]
  },
  {
   "cell_type": "markdown",
   "metadata": {},
   "source": [
    "## Toggle string\n",
    "### given string consits of uppercase and lowercase letters.you need to change the case of each letter in the string"
   ]
  },
  {
   "cell_type": "code",
   "execution_count": null,
   "metadata": {},
   "outputs": [],
   "source": [
    "s=\"Welcome To Swarnandhra coLLEGE OF engINEERING anD TECHnoLOGY\"\n",
    "s=s.swapcase()\n",
    "s"
   ]
  },
  {
   "cell_type": "markdown",
   "metadata": {},
   "source": [
    "## two strings:\n",
    "### two strings of equal length.check whether strings are identical or not"
   ]
  },
  {
   "cell_type": "code",
   "execution_count": 2,
   "metadata": {},
   "outputs": [
    {
     "ename": "IndentationError",
     "evalue": "unexpected indent (<ipython-input-2-a8c41e8d8d10>, line 6)",
     "output_type": "error",
     "traceback": [
      "\u001b[1;36m  File \u001b[1;32m\"<ipython-input-2-a8c41e8d8d10>\"\u001b[1;36m, line \u001b[1;32m6\u001b[0m\n\u001b[1;33m    print(\"identical\")\u001b[0m\n\u001b[1;37m    ^\u001b[0m\n\u001b[1;31mIndentationError\u001b[0m\u001b[1;31m:\u001b[0m unexpected indent\n"
     ]
    }
   ],
   "source": [
    "a=input(\"enter the string\")\n",
    "b=input(\"enter the string\")\n",
    "for i in a:\n",
    "    if i not in b:\n",
    "        flag=1\n",
    "            print(\"identical\")\n",
    "        else:\n",
    "            print(\"not identical\")\n",
    "else:\n",
    "    print(\"not identical\")"
   ]
  },
  {
   "cell_type": "markdown",
   "metadata": {},
   "source": [
    "## string=\"problem sloving using python\"find length"
   ]
  },
  {
   "cell_type": "code",
   "execution_count": null,
   "metadata": {},
   "outputs": [],
   "source": [
    "s=\"problem sloving using python\"\n",
    "s=len(s)\n",
    "s"
   ]
  },
  {
   "cell_type": "markdown",
   "metadata": {},
   "source": [
    "## lowercase"
   ]
  },
  {
   "cell_type": "code",
   "execution_count": null,
   "metadata": {},
   "outputs": [],
   "source": [
    "s=input()\n",
    "a=s.lower()\n",
    "a"
   ]
  },
  {
   "cell_type": "markdown",
   "metadata": {},
   "source": [
    "## REVERSE"
   ]
  },
  {
   "cell_type": "code",
   "execution_count": null,
   "metadata": {},
   "outputs": [],
   "source": [
    "s=\"keerthi surekha\"\n",
    "s=s[::-1]\n",
    "s"
   ]
  },
  {
   "cell_type": "markdown",
   "metadata": {},
   "source": [
    "## E-maze in:x and y axises need to take i/p as LLRDDR(strings)"
   ]
  },
  {
   "cell_type": "code",
   "execution_count": 1,
   "metadata": {},
   "outputs": [
    {
     "name": "stdout",
     "output_type": "stream",
     "text": [
      "enter stringLLRDDR\n",
      "x= -1 y= 0\n",
      "x= -2 y= 0\n",
      "x= -1 y= 0\n",
      "x= -1 y= -1\n",
      "x= -1 y= -2\n",
      "x= 0 y= -2\n"
     ]
    }
   ],
   "source": [
    "a=input(\"enter string\")\n",
    "x=0\n",
    "y=0\n",
    "for i in a:\n",
    "    if(i=='R'):\n",
    "        x+=1\n",
    "    if(i=='L'):\n",
    "        x-=1\n",
    "    if(i=='U'):\n",
    "        y+=1\n",
    "    if(i=='D'):\n",
    "        y-=1\n",
    "    print('x=',x,'y=',y)   \n",
    "        "
   ]
  },
  {
   "cell_type": "markdown",
   "metadata": {},
   "source": [
    "## char sum:here the first character has a weight of 1,b has 2 and c has 3.find aba=1+2+1=4"
   ]
  },
  {
   "cell_type": "code",
   "execution_count": null,
   "metadata": {},
   "outputs": [],
   "source": [
    "s=input(\"enter the string\")\n",
    "s1=0\n",
    "for i in s:\n",
    "    s1+=ord(i)-ord('a')+1\n",
    "print(s1)    "
   ]
  },
  {
   "cell_type": "markdown",
   "metadata": {},
   "source": [
    "# 28-08-2019 "
   ]
  },
  {
   "cell_type": "markdown",
   "metadata": {},
   "source": [
    "## i/p:2 + 3 o/p:5   -,*,/"
   ]
  },
  {
   "cell_type": "code",
   "execution_count": null,
   "metadata": {},
   "outputs": [],
   "source": [
    "a=input(\"enter the string\")\n",
    "a=a.split(' ')\n",
    "if(a[1]=='+'):\n",
    "    b=int(a[0])+int(a[2])\n",
    "if(a[1]=='-'):\n",
    "    b=int(a[0])-int(a[2])\n",
    "if(a[1]=='*'):\n",
    "    b=int(a[0])*int(a[2])\n",
    "if(a[1]=='/'):\n",
    "    b=int(a[0])/int(a[2])\n",
    "print(b)\n",
    "    \n",
    "\n",
    "        \n",
    "\n",
    "\n"
   ]
  },
  {
   "cell_type": "markdown",
   "metadata": {},
   "source": [
    "## profile pic upload"
   ]
  },
  {
   "cell_type": "code",
   "execution_count": 2,
   "metadata": {},
   "outputs": [
    {
     "name": "stdout",
     "output_type": "stream",
     "text": [
      "enter the width180\n",
      "enter the height560\n",
      "crop it\n",
      "crop it\n",
      "crop it\n",
      "crop it\n",
      "crop it\n",
      "crop it\n",
      "crop it\n",
      "crop it\n",
      "crop it\n",
      "crop it\n",
      "crop it\n",
      "crop it\n"
     ]
    }
   ],
   "source": [
    "l=180\n",
    "w=int(input(\"enter the width\"))\n",
    "h=int(input(\"enter the height\"))\n",
    "if(w<l or h<l):\n",
    "    print(\"upload another\")\n",
    "elif(w>l or h>l):\n",
    "    print(\"crop it\")\n",
    "else:\n",
    "    print(\"accepted\")"
   ]
  },
  {
   "cell_type": "markdown",
   "metadata": {},
   "source": [
    "# 30 aug 2019"
   ]
  },
  {
   "cell_type": "markdown",
   "metadata": {},
   "source": [
    "## factorial using function"
   ]
  },
  {
   "cell_type": "code",
   "execution_count": 8,
   "metadata": {},
   "outputs": [
    {
     "name": "stdout",
     "output_type": "stream",
     "text": [
      "5\n"
     ]
    },
    {
     "data": {
      "text/plain": [
       "120"
      ]
     },
     "execution_count": 8,
     "metadata": {},
     "output_type": "execute_result"
    }
   ],
   "source": [
    "def fact():\n",
    "    n=int(input())\n",
    "    factorial=1\n",
    "    for i in range(1,n+1):\n",
    "        factorial=factorial*i\n",
    "    return factorial\n",
    "fact()    "
   ]
  },
  {
   "cell_type": "markdown",
   "metadata": {},
   "source": [
    "## function to print all numbers divisible by 6 and not a factor of 100 in a given range(lb,ub)inclusive"
   ]
  },
  {
   "cell_type": "code",
   "execution_count": 15,
   "metadata": {},
   "outputs": [
    {
     "name": "stdout",
     "output_type": "stream",
     "text": [
      "1\n",
      "101\n",
      "6\n",
      "12\n",
      "18\n",
      "24\n",
      "30\n",
      "36\n",
      "42\n",
      "48\n",
      "54\n",
      "60\n",
      "66\n",
      "72\n",
      "78\n",
      "84\n",
      "90\n",
      "96\n"
     ]
    }
   ],
   "source": [
    "def div():\n",
    "    lb=int(input())\n",
    "    ub=int(input())\n",
    "    for i in range(lb,ub+1):\n",
    "        if(i%6==0 and i%100!=0):\n",
    "            print(i)\n",
    "div()    "
   ]
  },
  {
   "cell_type": "markdown",
   "metadata": {},
   "source": [
    "## function to find the avg of cubes of all the even numbers in a given range(lb,ub) inclusive"
   ]
  },
  {
   "cell_type": "code",
   "execution_count": 23,
   "metadata": {},
   "outputs": [
    {
     "name": "stdout",
     "output_type": "stream",
     "text": [
      "1\n",
      "11\n"
     ]
    },
    {
     "data": {
      "text/plain": [
       "360.0"
      ]
     },
     "execution_count": 23,
     "metadata": {},
     "output_type": "execute_result"
    }
   ],
   "source": [
    "def avgcube():\n",
    "    lb=int(input())\n",
    "    ub=int(input())\n",
    "    count=0\n",
    "    sum=0\n",
    "    for i in range(lb,ub+1):\n",
    "        if(i%2==0):\n",
    "           \n",
    "            a=pow(i,3)\n",
    "            sum=sum+a\n",
    "            count=count+1\n",
    "    avg=sum/count\n",
    "    return avg\n",
    "avgcube()\n",
    "\n",
    "    "
   ]
  },
  {
   "cell_type": "markdown",
   "metadata": {},
   "source": [
    "## function to generate the list of factors for a given number"
   ]
  },
  {
   "cell_type": "code",
   "execution_count": 27,
   "metadata": {},
   "outputs": [
    {
     "name": "stdout",
     "output_type": "stream",
     "text": [
      "6\n",
      "1\n",
      "2\n",
      "3\n"
     ]
    }
   ],
   "source": [
    "def factors():\n",
    "    n=int(input())\n",
    "    for i in range(1,n):\n",
    "        if n%i==0:\n",
    "            print(i)\n",
    "            i+=1\n",
    "factors()            \n",
    "            \n",
    "            \n",
    "        "
   ]
  },
  {
   "cell_type": "markdown",
   "metadata": {},
   "source": [
    "## function to check if a given number is prime"
   ]
  },
  {
   "cell_type": "code",
   "execution_count": 37,
   "metadata": {},
   "outputs": [
    {
     "name": "stdout",
     "output_type": "stream",
     "text": [
      "5\n",
      "prime number\n"
     ]
    }
   ],
   "source": [
    "def prime():\n",
    "    n=int(input())\n",
    "    for i in range(1,n+1):\n",
    "        count=0\n",
    "        for j in range(1,i+1):\n",
    "            if(i%j==0):\n",
    "                count+=1\n",
    "    if(count==2):\n",
    "        print(\"prime number\")\n",
    "    else:\n",
    "        print(\"not prime number\")\n",
    "prime()        "
   ]
  },
  {
   "cell_type": "markdown",
   "metadata": {},
   "source": [
    "## function to check first n prime numbers"
   ]
  },
  {
   "cell_type": "code",
   "execution_count": 7,
   "metadata": {},
   "outputs": [
    {
     "name": "stdout",
     "output_type": "stream",
     "text": [
      "enter the value50\n"
     ]
    }
   ],
   "source": [
    "def frstprime():\n",
    "    n=int(input(\"enter the value\"))\n",
    "    for i in range(1,n):\n",
    "        count=0\n",
    "        for j in range(1,i+1):\n",
    "            if(i%j==0):\n",
    "                count+=1\n",
    "    if(count==2):\n",
    "        print(i)\n",
    "frstprime()\n"
   ]
  },
  {
   "cell_type": "markdown",
   "metadata": {},
   "source": [
    "## function to check given number is perfect number or not"
   ]
  },
  {
   "cell_type": "code",
   "execution_count": null,
   "metadata": {},
   "outputs": [],
   "source": [
    "def perfect():\n",
    "    lb=int(input())\n",
    "    ub=int(input())\n",
    "    for i in range(lb,ub+1):\n",
    "        \n",
    "    \n",
    "    "
   ]
  },
  {
   "cell_type": "markdown",
   "metadata": {},
   "source": [
    "### find the sum of prime numbers from 10 to 30 using functions:\n"
   ]
  },
  {
   "cell_type": "code",
   "execution_count": 8,
   "metadata": {},
   "outputs": [],
   "source": [
    "def isPrime(n):\n",
    "    for i in range(2,n):\n",
    "        if(n%i==0):\n",
    "            return False\n",
    "    return True\n"
   ]
  },
  {
   "cell_type": "code",
   "execution_count": 9,
   "metadata": {},
   "outputs": [
    {
     "name": "stdout",
     "output_type": "stream",
     "text": [
      "112\n"
     ]
    }
   ],
   "source": [
    "sum=0\n",
    "for i in range(10,31):\n",
    "    if isPrime(i):\n",
    "        sum+=i\n",
    "print(sum)"
   ]
  },
  {
   "cell_type": "markdown",
   "metadata": {},
   "source": [
    "# lists\n",
    "## list is a collection of items.we can store any type of accepted values"
   ]
  },
  {
   "cell_type": "code",
   "execution_count": 10,
   "metadata": {},
   "outputs": [],
   "source": [
    "a=list()\n",
    "b=[]"
   ]
  },
  {
   "cell_type": "code",
   "execution_count": 11,
   "metadata": {},
   "outputs": [
    {
     "data": {
      "text/plain": [
       "list"
      ]
     },
     "execution_count": 11,
     "metadata": {},
     "output_type": "execute_result"
    }
   ],
   "source": [
    "type(a)\n",
    "type(b)"
   ]
  },
  {
   "cell_type": "code",
   "execution_count": 12,
   "metadata": {},
   "outputs": [],
   "source": [
    "numbers=[1,2,3]"
   ]
  },
  {
   "cell_type": "code",
   "execution_count": 13,
   "metadata": {},
   "outputs": [
    {
     "data": {
      "text/plain": [
       "3"
      ]
     },
     "execution_count": 13,
     "metadata": {},
     "output_type": "execute_result"
    }
   ],
   "source": [
    "len(numbers)"
   ]
  },
  {
   "cell_type": "code",
   "execution_count": 14,
   "metadata": {},
   "outputs": [
    {
     "name": "stdout",
     "output_type": "stream",
     "text": [
      "6\n"
     ]
    }
   ],
   "source": [
    "sum=0\n",
    "for i in numbers:\n",
    "    sum+=i\n",
    "print(sum)    "
   ]
  },
  {
   "cell_type": "code",
   "execution_count": null,
   "metadata": {},
   "outputs": [],
   "source": [
    "items=['keerthi',10,'surekha',30,60]\n",
    "sum=0\n",
    "for i in items:\n",
    "    if str(i).isdigit():\n",
    "        total+=i\n",
    "print()"
   ]
  },
  {
   "cell_type": "markdown",
   "metadata": {},
   "source": [
    "# 3 sep 2019"
   ]
  },
  {
   "cell_type": "markdown",
   "metadata": {},
   "source": [
    "### 1.find the sum of digits\n",
    "### 2.find the number of characters(a-z and A-Z)\n",
    "### 3.find number of digits\n",
    "### 4.find average of digits\n",
    "    data=\"sairam 123 lakshmi\""
   ]
  },
  {
   "cell_type": "code",
   "execution_count": 12,
   "metadata": {},
   "outputs": [
    {
     "name": "stdout",
     "output_type": "stream",
     "text": [
      "6\n"
     ]
    }
   ],
   "source": [
    "data=\"sairam 123 lakshmi\"\n",
    "a=0\n",
    "for i in data:\n",
    "    if(i.isdigit()):\n",
    "        a=a+int(i)\n",
    "print(a)"
   ]
  },
  {
   "cell_type": "code",
   "execution_count": 14,
   "metadata": {},
   "outputs": [
    {
     "name": "stdout",
     "output_type": "stream",
     "text": [
      "13\n"
     ]
    }
   ],
   "source": [
    "data=\"sairam 123 lakshmi\"\n",
    "a=0\n",
    "for i in data:\n",
    "    if(i.isalpha()):\n",
    "        a+=1\n",
    "print(a)"
   ]
  },
  {
   "cell_type": "code",
   "execution_count": 15,
   "metadata": {},
   "outputs": [
    {
     "name": "stdout",
     "output_type": "stream",
     "text": [
      "3\n"
     ]
    }
   ],
   "source": [
    "data=\"sairam 123 lakshmi\"\n",
    "a=0\n",
    "for i in data:\n",
    "    if(i.isdigit()):\n",
    "        a+=1\n",
    "print(a)"
   ]
  },
  {
   "cell_type": "code",
   "execution_count": 26,
   "metadata": {},
   "outputs": [
    {
     "name": "stdout",
     "output_type": "stream",
     "text": [
      "2.0\n"
     ]
    }
   ],
   "source": [
    "data=\"sairam 123 lashmi\"\n",
    "a=0\n",
    "c=0\n",
    "for i in data:\n",
    "    if(i.isdigit()):\n",
    "        a=a+int(i)\n",
    "        c+=1\n",
    "avg=a/c\n",
    "print(avg)\n"
   ]
  },
  {
   "cell_type": "markdown",
   "metadata": {},
   "source": [
    "## lucky number(ex:1234=(1+2+3+4)=10=(1+0)=1)"
   ]
  },
  {
   "cell_type": "code",
   "execution_count": 31,
   "metadata": {},
   "outputs": [],
   "source": [
    "def sumOfDigits(data_inp):\n",
    "   \n",
    "    a=0\n",
    "    for i in data:\n",
    "        if(i.isdigit()):\n",
    "            a=a+int(i)\n",
    "    return a"
   ]
  },
  {
   "cell_type": "code",
   "execution_count": 32,
   "metadata": {},
   "outputs": [
    {
     "name": "stdout",
     "output_type": "stream",
     "text": [
      "2\n"
     ]
    }
   ],
   "source": [
    "data='sai11234'\n",
    "while True:\n",
    "    result=str(sumOfDigits(data))\n",
    "    if(len(result)>1):\n",
    "        data=result\n",
    "    else:\n",
    "        break\n",
    "print(result)\n",
    "    "
   ]
  },
  {
   "cell_type": "markdown",
   "metadata": {},
   "source": [
    "## dictionary"
   ]
  },
  {
   "cell_type": "code",
   "execution_count": 33,
   "metadata": {},
   "outputs": [
    {
     "name": "stdout",
     "output_type": "stream",
     "text": [
      "{'alpha': 6, 'digits': 3}\n"
     ]
    }
   ],
   "source": [
    "data='sairam123'\n",
    "result={}\n",
    "for character in data:\n",
    "    if character.isalpha():\n",
    "        result['alpha']=result.get('alpha',0)+1\n",
    "    if character.isdigit():\n",
    "        result['digits']=result.get('digits',0)+1\n",
    "print(result)\n"
   ]
  },
  {
   "cell_type": "markdown",
   "metadata": {},
   "source": [
    "### find the frequency of characters"
   ]
  },
  {
   "cell_type": "code",
   "execution_count": 37,
   "metadata": {},
   "outputs": [
    {
     "name": "stdout",
     "output_type": "stream",
     "text": [
      "{'p': 2, 'y': 1, 't': 1, 'h': 1, 'o': 2, 'n': 1, ' ': 1, 'r': 2, 'g': 1, 'a': 1, 'm': 1}\n"
     ]
    }
   ],
   "source": [
    "name='python program'\n",
    "frequency={}\n",
    "for i in name:\n",
    "    if i in frequency: \n",
    "        frequency[i] += 1\n",
    "    else: \n",
    "        frequency[i] = 1\n",
    "print(frequency)    "
   ]
  },
  {
   "cell_type": "markdown",
   "metadata": {},
   "source": [
    "# 4 sep 2019"
   ]
  },
  {
   "cell_type": "markdown",
   "metadata": {},
   "source": [
    "### develop patterns for company name end with 'e' and must and should be 5 charcters only"
   ]
  },
  {
   "cell_type": "code",
   "execution_count": 6,
   "metadata": {},
   "outputs": [
    {
     "name": "stdout",
     "output_type": "stream",
     "text": [
      "apple\n"
     ]
    }
   ],
   "source": [
    "import re\n",
    "companies=['apple','microsoft','google','tcs']\n",
    "for i in companies:\n",
    "    if re.search('^....e$',i):\n",
    "        print(i)\n"
   ]
  },
  {
   "cell_type": "markdown",
   "metadata": {},
   "source": [
    "### find the name atleast 5 charactes"
   ]
  },
  {
   "cell_type": "code",
   "execution_count": 7,
   "metadata": {},
   "outputs": [
    {
     "name": "stdout",
     "output_type": "stream",
     "text": [
      "apple\n",
      "microsoft\n",
      "google\n"
     ]
    }
   ],
   "source": [
    "companies=['apple','microsoft','google','tcs']\n",
    "for i in companies:\n",
    "    if re.search('.....',i):\n",
    "        print(i)\n"
   ]
  },
  {
   "cell_type": "code",
   "execution_count": 14,
   "metadata": {},
   "outputs": [
    {
     "name": "stdout",
     "output_type": "stream",
     "text": [
      "apple\n",
      "tcs\n"
     ]
    }
   ],
   "source": [
    "import re\n",
    "companies=['apple','microsoft','google','tcs']\n",
    "for i in companies:\n",
    "    if re.search('^.{3,5}$',i):\n",
    "        print(i)\n"
   ]
  },
  {
   "cell_type": "markdown",
   "metadata": {},
   "source": [
    "### other than digits"
   ]
  },
  {
   "cell_type": "code",
   "execution_count": 21,
   "metadata": {},
   "outputs": [
    {
     "data": {
      "text/plain": [
       "['i',\n",
       " 'am',\n",
       " 'from',\n",
       " 'vijayawada',\n",
       " 'my',\n",
       " 'mobile',\n",
       " 'we',\n",
       " 'stay',\n",
       " 'here',\n",
       " 'from',\n",
       " 'last',\n",
       " 'days']"
      ]
     },
     "execution_count": 21,
     "metadata": {},
     "output_type": "execute_result"
    }
   ],
   "source": [
    "message='i am from vijayawada my mobile 9876543210 we stay here from last 3 days'\n",
    "re.findall('[a-zA-Z]+',message)\n",
    "    "
   ]
  },
  {
   "cell_type": "code",
   "execution_count": 22,
   "metadata": {},
   "outputs": [
    {
     "data": {
      "text/plain": [
       "['1233', '234']"
      ]
     },
     "execution_count": 22,
     "metadata": {},
     "output_type": "execute_result"
    }
   ],
   "source": [
    "data='sai 1233 ram 234'\n",
    "re.findall('\\d+',data)"
   ]
  },
  {
   "cell_type": "markdown",
   "metadata": {},
   "source": [
    "### 1.create function to check given data valid or not for given pattern\n",
    "### 2.create function for person name validator\n",
    "### 3.create function to check given data valid or not for given pattern"
   ]
  },
  {
   "cell_type": "markdown",
   "metadata": {},
   "source": [
    "### 1.create function to check given data valid or not for given pattern"
   ]
  },
  {
   "cell_type": "code",
   "execution_count": 10,
   "metadata": {},
   "outputs": [
    {
     "name": "stdout",
     "output_type": "stream",
     "text": [
      "invalid\n"
     ]
    }
   ],
   "source": [
    "import re\n",
    "def mob(number):\n",
    "   \n",
    "    if re.search('^[6-9]\\d{9}$',number):\n",
    "        print(\"valid\")\n",
    "    else:\n",
    "        print(\"invalid\")\n",
    "mob('576543210')"
   ]
  },
  {
   "cell_type": "markdown",
   "metadata": {},
   "source": [
    "# 5 sep 2019"
   ]
  },
  {
   "cell_type": "markdown",
   "metadata": {},
   "source": [
    "### 3.create function to check given data valid or not for given pattern"
   ]
  },
  {
   "cell_type": "code",
   "execution_count": 20,
   "metadata": {},
   "outputs": [
    {
     "data": {
      "text/plain": [
       "True"
      ]
     },
     "execution_count": 20,
     "metadata": {},
     "output_type": "execute_result"
    }
   ],
   "source": [
    "def search(data):\n",
    "    if re.search('^[6-9]\\D{2}\\d{7}$',data):\n",
    "        return True\n",
    "    else:\n",
    "        return False\n",
    "search('6ke9876543')"
   ]
  },
  {
   "cell_type": "markdown",
   "metadata": {},
   "source": [
    "### 2.create function for person name validator\n",
    "     (B.keerthi,keerthi.B,B keerthi,keerthi B,keerthi)"
   ]
  },
  {
   "cell_type": "code",
   "execution_count": 9,
   "metadata": {},
   "outputs": [
    {
     "data": {
      "text/plain": [
       "False"
      ]
     },
     "execution_count": 9,
     "metadata": {},
     "output_type": "execute_result"
    }
   ],
   "source": [
    "import re\n",
    "def personname(name):\n",
    "    if re.search('^[a-zA-Z]+[ .]{0,1}[a-zA-Z]*$',name):\n",
    "        return True\n",
    "    else:\n",
    "        return False\n",
    "personname('surekha..keerthi')"
   ]
  },
  {
   "cell_type": "code",
   "execution_count": null,
   "metadata": {},
   "outputs": [],
   "source": []
  }
 ],
 "metadata": {
  "kernelspec": {
   "display_name": "Python 3",
   "language": "python",
   "name": "python3"
  },
  "language_info": {
   "codemirror_mode": {
    "name": "ipython",
    "version": 3
   },
   "file_extension": ".py",
   "mimetype": "text/x-python",
   "name": "python",
   "nbconvert_exporter": "python",
   "pygments_lexer": "ipython3",
   "version": "3.7.3"
  }
 },
 "nbformat": 4,
 "nbformat_minor": 2
}
